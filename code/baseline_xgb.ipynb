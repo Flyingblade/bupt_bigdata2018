{
 "cells": [
  {
   "cell_type": "code",
   "execution_count": 1,
   "metadata": {
    "collapsed": true
   },
   "outputs": [],
   "source": [
    "import pandas as pd\n",
    "import datetime as dt\n",
    "from tqdm import tqdm\n",
    "import xgboost as xgb\n",
    "import numpy as np\n",
    "import seaborn as sns\n",
    "import matplotlib.pyplot as plt\n",
    "%matplotlib inline\n",
    "import math\n",
    "from sklearn.metrics import mean_squared_error"
   ]
  },
  {
   "cell_type": "markdown",
   "metadata": {},
   "source": [
    "# 数据读取"
   ]
  },
  {
   "cell_type": "code",
   "execution_count": 2,
   "metadata": {
    "collapsed": true
   },
   "outputs": [],
   "source": [
    "df = pd.DataFrame()\n",
    "for i in range(1,12):\n",
    "    df = pd.concat([df,pd.read_csv('../data/%02d.csv'%i)])"
   ]
  },
  {
   "cell_type": "code",
   "execution_count": 3,
   "metadata": {
    "collapsed": true
   },
   "outputs": [],
   "source": [
    "df.reset_index(drop=True,inplace=True)"
   ]
  },
  {
   "cell_type": "code",
   "execution_count": 4,
   "metadata": {},
   "outputs": [
    {
     "data": {
      "text/plain": [
       "count    2.891275e+07\n",
       "mean     3.609333e+00\n",
       "std      5.920843e+01\n",
       "min      1.000000e+00\n",
       "25%      1.000000e+00\n",
       "50%      1.000000e+00\n",
       "75%      2.000000e+00\n",
       "max      5.454800e+04\n",
       "Name: time_stamp, dtype: float64"
      ]
     },
     "execution_count": 4,
     "metadata": {},
     "output_type": "execute_result"
    }
   ],
   "source": [
    "df.groupby('phone_id').time_stamp.count().describe()"
   ]
  },
  {
   "cell_type": "code",
   "execution_count": 5,
   "metadata": {},
   "outputs": [
    {
     "data": {
      "text/plain": [
       "count    3.300000e+01\n",
       "mean     3.162296e+06\n",
       "std      2.292263e+06\n",
       "min      8.950620e+05\n",
       "25%      1.912769e+06\n",
       "50%      2.592710e+06\n",
       "75%      3.388435e+06\n",
       "max      1.077338e+07\n",
       "Name: time_stamp, dtype: float64"
      ]
     },
     "execution_count": 5,
     "metadata": {},
     "output_type": "execute_result"
    }
   ],
   "source": [
    "df.groupby('loc_id').time_stamp.count().describe()"
   ]
  },
  {
   "cell_type": "code",
   "execution_count": 6,
   "metadata": {},
   "outputs": [
    {
     "data": {
      "text/plain": [
       "(28912753,)"
      ]
     },
     "execution_count": 6,
     "metadata": {},
     "output_type": "execute_result"
    }
   ],
   "source": [
    "df.phone_id.unique().shape"
   ]
  },
  {
   "cell_type": "code",
   "execution_count": 7,
   "metadata": {},
   "outputs": [
    {
     "data": {
      "text/plain": [
       "(104355765, 3)"
      ]
     },
     "execution_count": 7,
     "metadata": {},
     "output_type": "execute_result"
    }
   ],
   "source": [
    "df.shape"
   ]
  },
  {
   "cell_type": "markdown",
   "metadata": {},
   "source": [
    "# 序列构造"
   ]
  },
  {
   "cell_type": "code",
   "execution_count": 8,
   "metadata": {
    "collapsed": true
   },
   "outputs": [],
   "source": [
    "seq = df.groupby(['loc_id','time_stamp']).phone_id.count()"
   ]
  },
  {
   "cell_type": "code",
   "execution_count": 9,
   "metadata": {
    "collapsed": true
   },
   "outputs": [],
   "source": [
    "seq = seq.reset_index()"
   ]
  },
  {
   "cell_type": "code",
   "execution_count": 10,
   "metadata": {},
   "outputs": [
    {
     "data": {
      "text/plain": [
       "<matplotlib.axes._subplots.AxesSubplot at 0xaa3f710>"
      ]
     },
     "execution_count": 10,
     "metadata": {},
     "output_type": "execute_result"
    },
    {
     "data": {
      "image/png": "[encoded data removed]",
      "text/plain": [
       "<matplotlib.figure.Figure at 0x9681198>"
      ]
     },
     "metadata": {},
     "output_type": "display_data"
    }
   ],
   "source": [
    "seq[seq.loc_id==1][['time_stamp','phone_id']].plot()"
   ]
  },
  {
   "cell_type": "code",
   "execution_count": 11,
   "metadata": {},
   "outputs": [
    {
     "data": {
      "text/plain": [
       "(252013, 3)"
      ]
     },
     "execution_count": 11,
     "metadata": {},
     "output_type": "execute_result"
    }
   ],
   "source": [
    "seq.shape"
   ]
  },
  {
   "cell_type": "markdown",
   "metadata": {},
   "source": [
    "# 缺失填补"
   ]
  },
  {
   "cell_type": "markdown",
   "metadata": {},
   "source": [
    "**这里缺失值分为两类：\n",
    "\n",
    "**一类是 所有的loc_id在这个时段都没有数据 -> 解决方法：平移前一周的数据来填充这一周的缺失值\n",
    "\n",
    "**一类是 个别loc_id在这个时段没有数据     -> 解决方法： 选择与缺失值所在loc_id的pearson相关度最高的loc当前时刻的值来填充"
   ]
  },
  {
   "cell_type": "code",
   "execution_count": 12,
   "metadata": {
    "collapsed": true
   },
   "outputs": [],
   "source": [
    "# 插值填补\n",
    "seq.rename(columns={'phone_id':'counts'},inplace=True)\n",
    "seq2 = seq.pivot(index='time_stamp',columns='loc_id',values='counts')\n",
    "seq2.index = pd.DatetimeIndex(seq2.index)"
   ]
  },
  {
   "cell_type": "code",
   "execution_count": 13,
   "metadata": {
    "collapsed": true
   },
   "outputs": [],
   "source": [
    "from scipy.stats import pearsonr"
   ]
  },
  {
   "cell_type": "code",
   "execution_count": 14,
   "metadata": {
    "collapsed": true
   },
   "outputs": [],
   "source": [
    "# pearson fillna\n",
    "pearson_similarity = np.zeros((33,33))\n",
    "for col1 in seq2.columns:\n",
    "    for col2 in seq2.columns:\n",
    "        pearson_similarity[col1-1,col2-1] = pearsonr(seq2[col1].fillna(0), seq2[col2].fillna(0))[0]"
   ]
  },
  {
   "cell_type": "code",
   "execution_count": 15,
   "metadata": {
    "collapsed": true
   },
   "outputs": [],
   "source": [
    "for i in range(0,seq2.shape[0]):\n",
    "    row = seq2.iloc[i,:]\n",
    "    for na_col in np.where(row.isnull())[0]:\n",
    "        similar_rank = pearson_similarity[na_col,:].argsort()\n",
    "        for j in range(0,len(similar_rank)):\n",
    "            fillna_col = np.where(similar_rank==j)[0][0]\n",
    "            if not np.isnan(row[fillna_col + 1]):\n",
    "                seq2.iloc[i,na_col] = row[fillna_col + 1]\n",
    "                break"
   ]
  },
  {
   "cell_type": "code",
   "execution_count": 16,
   "metadata": {
    "collapsed": true
   },
   "outputs": [],
   "source": [
    "seq2 = seq2.unstack().reset_index()\n",
    "seq2.time_stamp = seq2.time_stamp.map(lambda x:x.strftime('%Y-%m-%d %H'))\n",
    "seq2.columns= ['loc_id','time_stamp','counts']\n",
    "seq = seq2"
   ]
  },
  {
   "cell_type": "code",
   "execution_count": 17,
   "metadata": {},
   "outputs": [
    {
     "data": {
      "image/png": "[encoded data removed]",
      "text/plain": [
       "<matplotlib.figure.Figure at 0xabb08d0>"
      ]
     },
     "metadata": {},
     "output_type": "display_data"
    }
   ],
   "source": [
    "for each in seq.loc_id.unique():\n",
    "    plt.plot(seq[seq.loc_id==each].counts.values)"
   ]
  },
  {
   "cell_type": "code",
   "execution_count": 18,
   "metadata": {
    "collapsed": true
   },
   "outputs": [],
   "source": [
    "move_fill = seq[(seq.time_stamp>='2017-10-12 23') & (seq.time_stamp<='2017-10-13 07')].copy()\n",
    "move_fill.time_stamp = move_fill['time_stamp'].map(lambda x:x.replace('10-13','10-20').replace('10-12','10-19'))\n",
    "seq = pd.concat([seq,move_fill])\n",
    "seq.reset_index(drop=True,inplace=True)"
   ]
  },
  {
   "cell_type": "code",
   "execution_count": 19,
   "metadata": {},
   "outputs": [
    {
     "data": {
      "text/plain": [
       "<matplotlib.axes._subplots.AxesSubplot at 0xaefa128>"
      ]
     },
     "execution_count": 19,
     "metadata": {},
     "output_type": "execute_result"
    },
    {
     "data": {
      "image/png": "[encoded data removed]",
      "text/plain": [
       "<matplotlib.figure.Figure at 0xaef37f0>"
      ]
     },
     "metadata": {},
     "output_type": "display_data"
    }
   ],
   "source": [
    "seq['day'] = seq.time_stamp.map(lambda x:x[:-3])\n",
    "seq[seq.time_stamp>='2017-10-20'].groupby('day').counts.sum().plot()"
   ]
  },
  {
   "cell_type": "code",
   "execution_count": 20,
   "metadata": {
    "collapsed": true
   },
   "outputs": [],
   "source": [
    "move_fill2 = seq[(seq.time_stamp>='2017-11-02 01') & (seq.time_stamp<='2017-11-03 01') & (~seq.time_stamp.isin(['2017-11-02 10','2017-11-02 11']))].copy()\n",
    "move_fill2.time_stamp = move_fill2.time_stamp.map(lambda x:x.replace('11-03','11-10').replace('11-02','11-09'))\n",
    "seq = pd.concat([seq,move_fill2])\n",
    "seq.reset_index(drop=True,inplace=True)"
   ]
  },
  {
   "cell_type": "code",
   "execution_count": 21,
   "metadata": {},
   "outputs": [
    {
     "data": {
      "text/plain": [
       "<matplotlib.axes._subplots.AxesSubplot at 0xbdb3cc0>"
      ]
     },
     "execution_count": 21,
     "metadata": {},
     "output_type": "execute_result"
    },
    {
     "data": {
      "image/png": "[encoded data removed]",
      "text/plain": [
       "<matplotlib.figure.Figure at 0xab82f28>"
      ]
     },
     "metadata": {},
     "output_type": "display_data"
    }
   ],
   "source": [
    "seq['day'] = seq.time_stamp.map(lambda x:x[:-3])\n",
    "seq[seq.time_stamp>='2017-10-20'].groupby('day').counts.sum().plot()"
   ]
  },
  {
   "cell_type": "code",
   "execution_count": 22,
   "metadata": {
    "collapsed": true
   },
   "outputs": [],
   "source": [
    "# 10-29 21 - 10-30 07\n",
    "move_fill3 = seq[(seq.time_stamp>='2017-10-22 21') & (seq.time_stamp<='2017-10-23 07')].copy()\n",
    "move_fill3.time_stamp = move_fill3.time_stamp.map(lambda x:x.replace('10-23','10-30').replace('10-22','10-29'))"
   ]
  },
  {
   "cell_type": "code",
   "execution_count": 23,
   "metadata": {
    "collapsed": true
   },
   "outputs": [],
   "source": [
    "seq = pd.concat([seq,move_fill3])\n",
    "seq.reset_index(drop=True,inplace=True)"
   ]
  },
  {
   "cell_type": "code",
   "execution_count": 24,
   "metadata": {
    "collapsed": true
   },
   "outputs": [],
   "source": [
    "seq['day'] = seq.time_stamp.map(lambda x:x[:-3])"
   ]
  },
  {
   "cell_type": "code",
   "execution_count": 25,
   "metadata": {},
   "outputs": [
    {
     "data": {
      "text/plain": [
       "<matplotlib.axes._subplots.AxesSubplot at 0x106f8c50>"
      ]
     },
     "execution_count": 25,
     "metadata": {},
     "output_type": "execute_result"
    },
    {
     "data": {
      "image/png": "[encoded data removed]",
      "text/plain": [
       "<matplotlib.figure.Figure at 0xbe124a8>"
      ]
     },
     "metadata": {},
     "output_type": "display_data"
    }
   ],
   "source": [
    "seq[seq.time_stamp>='2017-10-20'].groupby('day').counts.sum().plot()"
   ]
  },
  {
   "cell_type": "code",
   "execution_count": 26,
   "metadata": {},
   "outputs": [
    {
     "data": {
      "text/plain": [
       "day\n",
       "2017-01-01    20\n",
       "2017-02-18     9\n",
       "2017-02-19    22\n",
       "2017-02-28    10\n",
       "2017-03-01    22\n",
       "2017-04-04    21\n",
       "2017-04-05    13\n",
       "2017-04-14    18\n",
       "2017-04-16    22\n",
       "2017-04-17    16\n",
       "2017-04-18    22\n",
       "2017-04-19    22\n",
       "2017-04-21    22\n",
       "2017-04-24    10\n",
       "2017-04-25     9\n",
       "2017-04-27    16\n",
       "2017-04-28    22\n",
       "2017-05-23    16\n",
       "2017-06-18    21\n",
       "2017-06-19    15\n",
       "Name: loc_id, dtype: int64"
      ]
     },
     "execution_count": 26,
     "metadata": {},
     "output_type": "execute_result"
    }
   ],
   "source": [
    "x = seq[seq.loc_id==1].groupby('day').count().iloc[:,0]\n",
    "x[x!=24]"
   ]
  },
  {
   "cell_type": "markdown",
   "metadata": {},
   "source": [
    "# 线上测试集"
   ]
  },
  {
   "cell_type": "code",
   "execution_count": 27,
   "metadata": {
    "collapsed": true
   },
   "outputs": [],
   "source": [
    "t3 = set()\n",
    "t = dt.datetime.strptime(seq.time_stamp.max(),'%Y-%m-%d %H') + dt.timedelta(hours=1)\n",
    "final_day = '2017-12-31 23'\n",
    "while t <= dt.datetime.strptime(final_day,'%Y-%m-%d %H'):\n",
    "    s = t.strftime('%Y-%m-%d %H')\n",
    "    if s not in t3:\n",
    "        t3.add(s)\n",
    "    t += dt.timedelta(hours=1)"
   ]
  },
  {
   "cell_type": "code",
   "execution_count": 28,
   "metadata": {},
   "outputs": [
    {
     "data": {
      "text/plain": [
       "24552"
      ]
     },
     "execution_count": 28,
     "metadata": {},
     "output_type": "execute_result"
    }
   ],
   "source": [
    "len(t3) * 33"
   ]
  },
  {
   "cell_type": "code",
   "execution_count": 29,
   "metadata": {},
   "outputs": [
    {
     "name": "stderr",
     "output_type": "stream",
     "text": [
      "100%|████████████████████████████████████████| 33/33 [00:00<00:00, 4714.15it/s]\n"
     ]
    }
   ],
   "source": [
    "test_add = []\n",
    "for loc in tqdm(seq.loc_id.unique()):\n",
    "    for each in t3:\n",
    "        test_add.append({'loc_id':loc,'time_stamp':each,'counts':-1})"
   ]
  },
  {
   "cell_type": "code",
   "execution_count": 30,
   "metadata": {
    "collapsed": true
   },
   "outputs": [],
   "source": [
    "test_add = pd.DataFrame(test_add)\n",
    "seq = pd.concat([seq,test_add])\n",
    "seq.reset_index(drop=True,inplace=True)"
   ]
  },
  {
   "cell_type": "markdown",
   "metadata": {},
   "source": [
    "# 特征构造"
   ]
  },
  {
   "cell_type": "code",
   "execution_count": 32,
   "metadata": {},
   "outputs": [],
   "source": [
    "seq['datetime'] = seq['time_stamp'].map(lambda x:dt.datetime.strptime(x,'%Y-%m-%d %H'))\n",
    "\n",
    "seq.sort_values(['loc_id','datetime'],inplace=True)\n",
    "\n",
    "seq.rename(columns={'phone_id':'counts'},inplace=True)\n",
    "\n",
    "seq['ymd'] = seq.time_stamp.map(lambda x:x[:-3])\n",
    "\n",
    "seq['day'] = seq.datetime.map(lambda x:x.day)\n",
    "seq['hour'] = seq.datetime.map(lambda x:x.hour)\n",
    "seq['month'] = seq.time_stamp.map(lambda x:int(x[5:7]))\n",
    "seq['day_of_week'] = seq.datetime.map(lambda x:x.weekday())\n",
    "\n",
    "seq['week_of_month'] = seq.datetime.map(lambda x:(x.day-1) // 7 + 1)\n",
    "\n",
    "holidays = ['2016-12-31', '2017-01-01', '2017-01-02', '2017-04-02', '2017-04-03', '2017-04-04', '2017-04-29', '2017-04-30', '2017-05-01', '2017-05-28', '2017-05-29', '2017-05-30', '2017-10-01', '2017-10-02', '2017-10-03', '2017-10-04', '2017-10-05', '2017-10-06', '2017-10-07', '2017-10-08']\n",
    "vacations = ['2017-01-21', '2017-01-22', '2017-01-23', '2017-01-24', '2017-01-25', '2017-01-26', '2017-01-27', '2017-01-28', '2017-01-29', '2017-01-30', '2017-01-31', '2017-02-01', '2017-02-02', '2017-02-03', '2017-02-04', '2017-02-05', '2017-02-06', '2017-02-07', '2017-02-08', '2017-02-09', '2017-02-10', '2017-02-11', '2017-02-12', '2017-02-13', '2017-02-14', '2017-02-15', '2017-02-16', '2017-02-17', '2017-02-18', '2017-02-19', '2017-02-20', '2017-02-21', '2017-02-22', '2017-02-23', '2017-02-24', '2017-02-25', '2017-02-26', '2017-07-15', '2017-07-16', '2017-07-17', '2017-07-18', '2017-07-19', '2017-07-20', '2017-07-21', '2017-07-22', '2017-07-23', '2017-07-24', '2017-07-25', '2017-07-26', '2017-07-27', '2017-07-28', '2017-07-29', '2017-07-30', '2017-07-31', '2017-08-01', '2017-08-02', '2017-08-03', '2017-08-04', '2017-08-05', '2017-08-06', '2017-08-07', '2017-08-08', '2017-08-09', '2017-08-10', '2017-08-11', '2017-08-12', '2017-08-13', '2017-08-14', '2017-08-15', '2017-08-16', '2017-08-17', '2017-08-18', '2017-08-19', '2017-08-20', '2017-08-21', '2017-08-22', '2017-08-23', '2017-08-24', '2017-08-25', '2017-08-26', '2017-08-27', '2017-08-28', '2017-08-29', '2017-08-30', '2017-08-31', '2017-09-01', '2017-09-02', '2017-09-03']\n",
    "\n",
    "seq['holidays'] = seq['ymd'].isin(holidays).astype(int)\n",
    "seq['vacations'] = seq['ymd'].isin(vacations).astype(int)\n",
    "seq['weekends'] = seq['day_of_week'].map(lambda x:int(x>=5))\n",
    "\n",
    "seq['classday'] = ((seq['holidays'] + seq['vacations'] + seq['weekends'])==0).astype(int)\n",
    "\n",
    "seq['classhours1'] = seq.hour.map(lambda x:(x>=8 and x<=11) or (x>=13 and x<=16)).astype(int) * seq['classday']\n",
    "seq['classhours2'] = seq.hour.map(lambda x:(x>=8 and x<=11) or (x>=13 and x<=17) or (x>=18 and x<= 21)).astype(int) * seq['classday']\n",
    "\n",
    "weathers = pd.read_csv('../features/weather_2017.csv')\n",
    "\n",
    "del weathers['day'],weathers['month']\n",
    "\n",
    "seq = seq.merge(weathers,on='ymd',how='left')"
   ]
  },
  {
   "cell_type": "markdown",
   "metadata": {},
   "source": [
    "# 模型训练"
   ]
  },
  {
   "cell_type": "code",
   "execution_count": 33,
   "metadata": {
    "collapsed": true
   },
   "outputs": [],
   "source": [
    "features = ['loc_id', 'hour', 'day',  'day_of_week', 'week_of_month', 'holidays', 'vacations', 'weekends', 'classday', 'classhours1', 'classhours2', 'AqiLevel', 'bWendu', 'fengli', 'yWendu', 'month', 'pollution', 'N', 'S', 'E', 'W', 'wind', 'weather1', 'weather2', 'rain', 'snow', 'wet', 'good_weather']"
   ]
  },
  {
   "cell_type": "code",
   "execution_count": 34,
   "metadata": {
    "collapsed": true
   },
   "outputs": [],
   "source": [
    "# 经过试验发现 使用9月份开学之后的数据来训练效果比较好\n",
    "# 而且要预测的11、12月（A榜和B榜线上测试集），期间没有跨国寒暑假。\n",
    "train = seq[((seq.datetime>='2017-09-04') & (seq.datetime<'2017-11-01'))]\n",
    "val = seq[(seq.datetime>='2017-11-01') & (seq.datetime<'2017-12-01')]\n",
    "test = seq[(seq.datetime>='2017-12-01')]"
   ]
  },
  {
   "cell_type": "code",
   "execution_count": 35,
   "metadata": {
    "collapsed": true
   },
   "outputs": [],
   "source": [
    "selected_features = ['loc_id', 'hour', 'classday', 'classhours2', 'weekends', 'day_of_week', 'week_of_month', 'holidays', 'weather2', 'fengli', 'vacations', 'W', 'E', 'snow', 'rain', 'wet', 'wind', 'good_weather', 'bWendu', 'N', 'month', 'S', 'weather1', 'day']\n"
   ]
  },
  {
   "cell_type": "code",
   "execution_count": 37,
   "metadata": {},
   "outputs": [
    {
     "name": "stdout",
     "output_type": "stream",
     "text": [
      "[0]\tval-rmse:1114.83\n",
      "Will train until val-rmse hasn't improved in 200 rounds.\n",
      "[500]\tval-rmse:474.799\n",
      "[1000]\tval-rmse:381.473\n",
      "[1500]\tval-rmse:331.598\n",
      "[2000]\tval-rmse:299.471\n",
      "[2500]\tval-rmse:284.317\n",
      "[3000]\tval-rmse:273.635\n",
      "[3500]\tval-rmse:266.357\n",
      "[4000]\tval-rmse:261.408\n",
      "[4500]\tval-rmse:258.117\n",
      "[5000]\tval-rmse:256.273\n",
      "[5500]\tval-rmse:254.989\n",
      "[6000]\tval-rmse:253.664\n",
      "[6500]\tval-rmse:253.287\n",
      "[7000]\tval-rmse:252.751\n",
      "[7500]\tval-rmse:252.523\n",
      "[8000]\tval-rmse:252.277\n",
      "[8500]\tval-rmse:251.987\n",
      "[9000]\tval-rmse:251.905\n",
      "[9500]\tval-rmse:251.685\n",
      "Stopping. Best iteration:\n",
      "[9595]\tval-rmse:251.629\n",
      "\n"
     ]
    }
   ],
   "source": [
    "params = {\n",
    " 'learning_rate' :0.01,\n",
    " 'max_depth':12,\n",
    " 'min_child_weight':10,\n",
    "#  'lambda':0.1,\n",
    " 'alpha':0.1,\n",
    " 'gamma':0.01,\n",
    "#  'subsample':0.9,\n",
    " 'colsample_bytree':0.3,\n",
    " 'objective':'reg:linear',#reg:linear\n",
    " 'eval_metric':'rmse',\n",
    " 'nthread':8,\n",
    " 'seed':2018\n",
    "}\n",
    "\n",
    "train_mat = xgb.DMatrix(train[selected_features],label=train['counts'])\n",
    "val_mat = xgb.DMatrix(val[selected_features], label=val['counts'])\n",
    "model = xgb.train(params,train_mat,num_boost_round=20000,early_stopping_rounds=200,evals=[(val_mat,'val')],verbose_eval=500)"
   ]
  },
  {
   "cell_type": "code",
   "execution_count": 38,
   "metadata": {
    "collapsed": true
   },
   "outputs": [],
   "source": [
    "# 使用全部数据来训练，用来预测线上测试集\n",
    "train = seq[(seq.datetime>='2017-09-04') & (seq.datetime<'2017-12-01')]\n",
    "train_mat = xgb.DMatrix(train[selected_features],label=train['counts'])\n",
    "test_mat = xgb.DMatrix(test[selected_features])\n",
    "model_ol = xgb.train(params,train_mat,num_boost_round=model.best_iteration + 10)"
   ]
  },
  {
   "cell_type": "code",
   "execution_count": 106,
   "metadata": {},
   "outputs": [
    {
     "name": "stderr",
     "output_type": "stream",
     "text": [
      "C:\\Program Files\\Python36\\lib\\site-packages\\ipykernel_launcher.py:1: SettingWithCopyWarning: \n",
      "A value is trying to be set on a copy of a slice from a DataFrame.\n",
      "Try using .loc[row_indexer,col_indexer] = value instead\n",
      "\n",
      "See the caveats in the documentation: http://pandas.pydata.org/pandas-docs/stable/indexing.html#indexing-view-versus-copy\n",
      "  \"\"\"Entry point for launching an IPython kernel.\n",
      "C:\\Program Files\\Python36\\lib\\site-packages\\ipykernel_launcher.py:3: SettingWithCopyWarning: \n",
      "A value is trying to be set on a copy of a slice from a DataFrame\n",
      "\n",
      "See the caveats in the documentation: http://pandas.pydata.org/pandas-docs/stable/indexing.html#indexing-view-versus-copy\n",
      "  This is separate from the ipykernel package so we can avoid doing imports until\n"
     ]
    }
   ],
   "source": [
    "test['num_of_people'] = model_ol.predict(test_mat)\n",
    "save = test[['loc_id','time_stamp','num_of_people']]\n",
    "save.sort_values(['time_stamp','loc_id'],inplace=True)"
   ]
  },
  {
   "cell_type": "code",
   "execution_count": 100,
   "metadata": {},
   "outputs": [
    {
     "name": "stderr",
     "output_type": "stream",
     "text": [
      "C:\\Program Files\\Python36\\lib\\site-packages\\pandas\\core\\indexing.py:537: SettingWithCopyWarning: \n",
      "A value is trying to be set on a copy of a slice from a DataFrame.\n",
      "Try using .loc[row_indexer,col_indexer] = value instead\n",
      "\n",
      "See the caveats in the documentation: http://pandas.pydata.org/pandas-docs/stable/indexing.html#indexing-view-versus-copy\n",
      "  self.obj[item] = s\n"
     ]
    }
   ],
   "source": [
    "save.loc[save.num_of_people<0,'num_of_people'] = 10"
   ]
  },
  {
   "cell_type": "code",
   "execution_count": 102,
   "metadata": {
    "collapsed": true
   },
   "outputs": [],
   "source": [
    "save.to_csv('../result/result_xgb.csv',index=False)"
   ]
  },
  {
   "cell_type": "code",
   "execution_count": null,
   "metadata": {
    "collapsed": true
   },
   "outputs": [],
   "source": [
    "save.shape"
   ]
  }
 ],
 "metadata": {
  "kernelspec": {
   "display_name": "Python 3",
   "language": "python",
   "name": "python3"
  },
  "language_info": {
   "codemirror_mode": {
    "name": "ipython",
    "version": 3
   },
   "file_extension": ".py",
   "mimetype": "text/x-python",
   "name": "python",
   "nbconvert_exporter": "python",
   "pygments_lexer": "ipython3",
   "version": "3.6.1"
  }
 },
 "nbformat": 4,
 "nbformat_minor": 2
}
