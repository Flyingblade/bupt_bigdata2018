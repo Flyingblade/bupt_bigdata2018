{
 "cells": [
  {
   "cell_type": "code",
   "execution_count": 1,
   "metadata": {
    "collapsed": true
   },
   "outputs": [],
   "source": [
    "import pandas as pd\n",
    "from math import sqrt\n",
    "from sklearn.metrics import mean_squared_error\n",
    "def rmse(X,y):\n",
    "    return sqrt(mean_squared_error(X,y))"
   ]
  },
  {
   "cell_type": "code",
   "execution_count": 2,
   "metadata": {
    "collapsed": true
   },
   "outputs": [],
   "source": [
    "model_xgb = pd.read_csv('../result/result_xgb.csv')\n",
    "model_rf = pd.read_csv('../result/result_rf.csv')"
   ]
  },
  {
   "cell_type": "code",
   "execution_count": 3,
   "metadata": {
    "collapsed": true
   },
   "outputs": [],
   "source": [
    "model_avg = model_xgb.merge(model_rf, on=['loc_id','time_stamp'],how='left')"
   ]
  },
  {
   "cell_type": "code",
   "execution_count": 4,
   "metadata": {},
   "outputs": [
    {
     "name": "stdout",
     "output_type": "stream",
     "text": [
      "<class 'pandas.core.frame.DataFrame'>\n",
      "Int64Index: 24552 entries, 0 to 24551\n",
      "Data columns (total 4 columns):\n",
      "loc_id             24552 non-null int64\n",
      "time_stamp         24552 non-null object\n",
      "num_of_people_x    24552 non-null float64\n",
      "num_of_people_y    24552 non-null float64\n",
      "dtypes: float64(2), int64(1), object(1)\n",
      "memory usage: 959.1+ KB\n"
     ]
    }
   ],
   "source": [
    "model_avg.info()"
   ]
  },
  {
   "cell_type": "code",
   "execution_count": 5,
   "metadata": {
    "collapsed": true
   },
   "outputs": [],
   "source": [
    "model_avg['num_of_people'] = (model_avg['num_of_people_x'] + model_avg['num_of_people_y'])/2"
   ]
  },
  {
   "cell_type": "code",
   "execution_count": 16,
   "metadata": {},
   "outputs": [
    {
     "data": {
      "text/plain": [
       "count    24552.000000\n",
       "mean       646.967241\n",
       "std        819.535024\n",
       "min          0.000000\n",
       "25%        247.114758\n",
       "50%        465.063934\n",
       "75%        746.633438\n",
       "max       9028.892284\n",
       "Name: num_of_people, dtype: float64"
      ]
     },
     "execution_count": 16,
     "metadata": {},
     "output_type": "execute_result"
    }
   ],
   "source": [
    "model_avg['num_of_people'].describe()"
   ]
  },
  {
   "cell_type": "code",
   "execution_count": 8,
   "metadata": {},
   "outputs": [
    {
     "data": {
      "text/plain": [
       "count    24552.000000\n",
       "mean       636.666959\n",
       "std        813.177192\n",
       "min        -43.889664\n",
       "25%        231.091463\n",
       "50%        461.238605\n",
       "75%        735.011130\n",
       "max       9109.178000\n",
       "Name: num_of_people_x, dtype: float64"
      ]
     },
     "execution_count": 8,
     "metadata": {},
     "output_type": "execute_result"
    }
   ],
   "source": [
    "model_avg['num_of_people_x'].describe()"
   ]
  },
  {
   "cell_type": "code",
   "execution_count": 9,
   "metadata": {},
   "outputs": [
    {
     "data": {
      "text/plain": [
       "count    24552.000000\n",
       "mean       657.247329\n",
       "std        828.169599\n",
       "min          3.678947\n",
       "25%        245.619158\n",
       "50%        472.730114\n",
       "75%        762.216049\n",
       "max       9009.695180\n",
       "Name: num_of_people_y, dtype: float64"
      ]
     },
     "execution_count": 9,
     "metadata": {},
     "output_type": "execute_result"
    }
   ],
   "source": [
    "model_avg['num_of_people_y'].describe()"
   ]
  },
  {
   "cell_type": "code",
   "execution_count": 10,
   "metadata": {},
   "outputs": [
    {
     "data": {
      "text/plain": [
       "1044.1154026707052"
      ]
     },
     "execution_count": 10,
     "metadata": {},
     "output_type": "execute_result"
    }
   ],
   "source": [
    "rmse([0]*model_avg.shape[0],model_avg['num_of_people'])"
   ]
  },
  {
   "cell_type": "code",
   "execution_count": 15,
   "metadata": {
    "collapsed": true
   },
   "outputs": [],
   "source": [
    "model_avg.loc[model_avg.num_of_people<0,'num_of_people'] = 0"
   ]
  },
  {
   "cell_type": "code",
   "execution_count": 7,
   "metadata": {},
   "outputs": [
    {
     "name": "stderr",
     "output_type": "stream",
     "text": [
      "C:\\Program Files\\Python36\\lib\\site-packages\\ipykernel_launcher.py:2: SettingWithCopyWarning: \n",
      "A value is trying to be set on a copy of a slice from a DataFrame\n",
      "\n",
      "See the caveats in the documentation: http://pandas.pydata.org/pandas-docs/stable/indexing.html#indexing-view-versus-copy\n",
      "  \n"
     ]
    }
   ],
   "source": [
    "save = model_avg[['loc_id','time_stamp','num_of_people']]\n",
    "save.sort_values(['time_stamp','loc_id'],inplace=True)"
   ]
  },
  {
   "cell_type": "code",
   "execution_count": 8,
   "metadata": {
    "collapsed": true
   },
   "outputs": [],
   "source": [
    "save.to_csv('../result/xgb_and_rf_final.csv',index=False)"
   ]
  },
  {
   "cell_type": "code",
   "execution_count": 9,
   "metadata": {},
   "outputs": [
    {
     "data": {
      "text/plain": [
       "(24552, 3)"
      ]
     },
     "execution_count": 9,
     "metadata": {},
     "output_type": "execute_result"
    }
   ],
   "source": [
    "save.shape"
   ]
  },
  {
   "cell_type": "code",
   "execution_count": null,
   "metadata": {
    "collapsed": true
   },
   "outputs": [],
   "source": []
  }
 ],
 "metadata": {
  "kernelspec": {
   "display_name": "Python 3",
   "language": "python",
   "name": "python3"
  },
  "language_info": {
   "codemirror_mode": {
    "name": "ipython",
    "version": 3
   },
   "file_extension": ".py",
   "mimetype": "text/x-python",
   "name": "python",
   "nbconvert_exporter": "python",
   "pygments_lexer": "ipython3",
   "version": "3.6.1"
  }
 },
 "nbformat": 4,
 "nbformat_minor": 2
}
